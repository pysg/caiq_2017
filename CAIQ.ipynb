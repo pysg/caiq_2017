{
 "cells": [
  {
   "cell_type": "markdown",
   "metadata": {
    "collapsed": true,
    "slideshow": {
     "slide_type": "slide"
    }
   },
   "source": [
    "## PyTher: UNA LIBRERÍA Python DE CÓDIGO ABIERTO PARA MODELADO TERMODINÁMICO\n",
    "\n",
    "Andrés Salazar*, Martín Cismondi\n",
    "\n",
    "Instituto de Investigación y Desarrollo de Ingeniería de Procesos y Química Aplicada\n",
    "\n",
    "(Universidad Nacional de Córdoba - CONICET)\n",
    "\n",
    "Av. Haya de la Torre s/n, Córdoba - Argentina\n",
    "\n",
    "E-mail: (andres.pyther@gmail.com)\n"
   ]
  },
  {
   "cell_type": "markdown",
   "metadata": {
    "slideshow": {
     "slide_type": "slide"
    }
   },
   "source": [
    "# Software Abierto"
   ]
  },
  {
   "cell_type": "markdown",
   "metadata": {
    "slideshow": {
     "slide_type": "subslide"
    }
   },
   "source": [
    "![pilares_open_science](img/pilares_open_science.jpg)\n"
   ]
  },
  {
   "cell_type": "markdown",
   "metadata": {
    "slideshow": {
     "slide_type": "subslide"
    }
   },
   "source": [
    "![hacer_software](img/hacer_software.png)\n"
   ]
  },
  {
   "cell_type": "markdown",
   "metadata": {
    "slideshow": {
     "slide_type": "subslide"
    }
   },
   "source": [
    "![no_documentado](img/no_documentado.jpg)\n"
   ]
  },
  {
   "cell_type": "markdown",
   "metadata": {
    "slideshow": {
     "slide_type": "subslide"
    }
   },
   "source": [
    "![software_cientifico](img/software_cientifico.png)\n"
   ]
  },
  {
   "cell_type": "markdown",
   "metadata": {
    "slideshow": {
     "slide_type": "subslide"
    }
   },
   "source": [
    "![problemas_sc](img/problemas_sc.png)\n"
   ]
  },
  {
   "cell_type": "markdown",
   "metadata": {
    "collapsed": true,
    "slideshow": {
     "slide_type": "subslide"
    }
   },
   "source": [
    "# Evitar muchas versiones de código con unos pocos cambios que dificultan su revisión por parte del mundo y hasta nosotros mismos\n",
    "\n",
    "![carpetas](img/carpetas.png)\n"
   ]
  },
  {
   "cell_type": "markdown",
   "metadata": {
    "slideshow": {
     "slide_type": "subslide"
    }
   },
   "source": [
    "# Git: Un controlador de versiones para organizar nuestro código y mostrarlo al mundo\n",
    "\n",
    "\n",
    "![git](img/git.png)\n"
   ]
  },
  {
   "cell_type": "markdown",
   "metadata": {
    "slideshow": {
     "slide_type": "subslide"
    }
   },
   "source": [
    "# El flujo de trabajo en Git es simple. Código en nuestro computador que se \"sube\" a un repositorio en Internet, para que el mundo (y nosotros mismo) lo puedan \"bajar\", ver, copiar, distribuir libremente\n",
    "\n",
    "![flujo_git](img/flujo_git.png)\n"
   ]
  },
  {
   "cell_type": "markdown",
   "metadata": {
    "slideshow": {
     "slide_type": "subslide"
    }
   },
   "source": [
    "![git_hub](img/git_hub.png)\n"
   ]
  },
  {
   "cell_type": "markdown",
   "metadata": {
    "collapsed": true,
    "slideshow": {
     "slide_type": "slide"
    }
   },
   "source": [
    "# Termodinámica"
   ]
  },
  {
   "cell_type": "markdown",
   "metadata": {
    "slideshow": {
     "slide_type": "subslide"
    }
   },
   "source": [
    "# Comportamiento del equilibrio de fases con ecuaciones cúbicas de estado\n",
    "\n",
    "![plan_trabajo_simplificado](img/plan_trabajo_simplificado.jpg)\n"
   ]
  },
  {
   "cell_type": "markdown",
   "metadata": {
    "collapsed": true,
    "slideshow": {
     "slide_type": "slide"
    }
   },
   "source": [
    "# PyTher"
   ]
  },
  {
   "cell_type": "markdown",
   "metadata": {
    "slideshow": {
     "slide_type": "subslide"
    }
   },
   "source": [
    "# A never-ending search for the truth: Thermodynamics in the uncertain era of the internet\n",
    "\n",
    "![proyeccion_datos_termodinamica](img/proyeccion_datos_termodinamica.jpg)\n",
    "\n",
    "### Crecimiento exponencial de los datos termofísicos reportados en la lietratura especializada. Difícil de revisar, procesar y obtener valor de los datos. [MichaelFrenkel, 2015](http://www.sciencedirect.com/science/article/pii/S0021961414003875)\n",
    "\n"
   ]
  },
  {
   "cell_type": "markdown",
   "metadata": {
    "slideshow": {
     "slide_type": "subslide"
    }
   },
   "source": [
    "**Pyther** es una librería desarrollada principalmente en **Python**, Fortran y C, para ser utilizada en el entorno interactivo Jupyter, enfocada en la obtención, procesamiento y visualización de la creciente cantidad de datos relevantes para el analisis de problemas en termodinámica del equilibrio de fases, siguiendo la filosofía **open source** y **open science**.\n",
    "\n",
    "![proyeccion_datos_termodinamica](img/que_es_python.jpg)\n"
   ]
  },
  {
   "cell_type": "markdown",
   "metadata": {
    "slideshow": {
     "slide_type": "subslide"
    }
   },
   "source": [
    "# Arquitectura de PyTher"
   ]
  },
  {
   "cell_type": "markdown",
   "metadata": {
    "slideshow": {
     "slide_type": "subslide"
    }
   },
   "source": [
    "![Pyther_arquitectura](img/Pyther_arquitectura_reformada_3.jpg)\n"
   ]
  },
  {
   "cell_type": "markdown",
   "metadata": {
    "slideshow": {
     "slide_type": "subslide"
    }
   },
   "source": [
    "# Capacidades en desarrollo"
   ]
  },
  {
   "cell_type": "markdown",
   "metadata": {
    "collapsed": true,
    "slideshow": {
     "slide_type": "subslide"
    }
   },
   "source": [
    "# Implementaciones\n",
    "\n",
    "- Obtención, procesamiento y visualización de datos\n",
    "- Parámetros y ecuaciones de estado (SRK, PR y RKPR)\n",
    "- Correlaciones para propiedades termofísicas de sustancias puras\n",
    "- Digramas de equilibrio de fases de sustancia puras"
   ]
  },
  {
   "cell_type": "markdown",
   "metadata": {
    "slideshow": {
     "slide_type": "subslide"
    }
   },
   "source": [
    "PyTher utiliza la base de datos DIPPR-2003 para calcular 13 propiedades termofísicas de sustancia pura:\n",
    "\n",
    "- Densidad del sólido y líquido\n",
    "- Presión de vapor y calor de vaporización\n",
    "- Capacidad calorífica del sólido, líquido y gas ideal\n",
    "- Segundo coeficiente virial\n",
    "- Viscosidad de líquido y vapor\n",
    "- Conductividad térmica del líquido y del vapor\n",
    "- Tensión superficial\n",
    "\n",
    "### trabajo futuro..."
   ]
  },
  {
   "cell_type": "markdown",
   "metadata": {
    "slideshow": {
     "slide_type": "subslide"
    }
   },
   "source": [
    "# Digrama para sustancia pura"
   ]
  },
  {
   "cell_type": "code",
   "execution_count": 12,
   "metadata": {
    "slideshow": {
     "slide_type": "subslide"
    }
   },
   "outputs": [
    {
     "data": {
      "text/plain": [
       "<matplotlib.text.Text at 0x7fe33b403710>"
      ]
     },
     "execution_count": 12,
     "metadata": {},
     "output_type": "execute_result"
    },
    {
     "data": {
      "image/png": "[encoded data removed]",
      "text/plain": [
       "<matplotlib.figure.Figure at 0x7fe33af536d8>"
      ]
     },
     "metadata": {},
     "output_type": "display_data"
    }
   ],
   "source": [
    "pyplot.scatter(VolumenLiqVAP,PresionVAP, color = 'red', label = 'Líquido')\n",
    "pyplot.scatter(VolumenVapVAP,PresionVAP, color = 'blue', label = 'Vapor')\n",
    "pyplot.title('Diagrama Densidad-Presión')\n",
    "pyplot.legend(loc=\"upper right\") \n",
    "pyplot.xlabel('Densidad [=] -')  \n",
    "pyplot.ylabel('Presión [=] bar')"
   ]
  },
  {
   "cell_type": "markdown",
   "metadata": {
    "slideshow": {
     "slide_type": "subslide"
    }
   },
   "source": [
    "# Pero, los más interesante es el procesamiento de datos, por ejemplo..."
   ]
  },
  {
   "cell_type": "code",
   "execution_count": 4,
   "metadata": {
    "collapsed": true,
    "slideshow": {
     "slide_type": "skip"
    }
   },
   "outputs": [],
   "source": [
    "import numpy as np\n",
    "import pandas as pd\n",
    "import pyther as pt\n",
    "import matplotlib.pyplot as plt\n",
    "%matplotlib inline"
   ]
  },
  {
   "cell_type": "markdown",
   "metadata": {
    "slideshow": {
     "slide_type": "skip"
    }
   },
   "source": [
    "# Especificar multiples sustancias puras y varias condiciones\n",
    "\n",
    "Es común que se requiera analizar multiples sustancias de forma simultanea con la especificación de varias condiciones de un modelo (por ejemplo **valores de temperaturas**), de tal forma que se obtendran una gran cantidad de valores (por ejemplo **una propiedad termodinámica**) que conforman un set de datos (en principio desestructurados), que en general demanda mucho tiempo en revisar y (**limpiar datos**) para encontrar resultados que no interesan o son invalidos (por ejemplo **predicciones fuera del rango de aplicación de un modelos termodinámico**)"
   ]
  },
  {
   "cell_type": "markdown",
   "metadata": {
    "slideshow": {
     "slide_type": "subslide"
    }
   },
   "source": [
    "# Veamos un caso típico...\n",
    "\n",
    "Se obtiene una cierta cantidad de datos desestructurados y sin formato que dificulta diferenciar los resultados *\"buenos de los malos\"*"
   ]
  },
  {
   "cell_type": "code",
   "execution_count": 7,
   "metadata": {
    "slideshow": {
     "slide_type": "subslide"
    }
   },
   "outputs": [
    {
     "name": "stdout",
     "output_type": "stream",
     "text": [
      "----------------------------------------------------------------------\n",
      "Pure substances with a temperature especific: ['METHANE', 'n-TETRACOSANE', 'n-PENTACOSANE', 'ETHANE', 'ISOBUTANE', 'PROPANE', '3-METHYLHEPTANE']\n",
      "----------------------------------------------------------------------\n",
      "[180.4, 181.4, 185.3, 210, 800]\n",
      "Temperature_enter = [[180.4, 181.4, 185.3, '210 K is a temperature not valid', '800 K is a temperature not valid'], ['180.4 K is a temperature not valid', '181.4 K is a temperature not valid', '185.3 K is a temperature not valid', '210 K is a temperature not valid', 800], ['180.4 K is a temperature not valid', '181.4 K is a temperature not valid', '185.3 K is a temperature not valid', '210 K is a temperature not valid', 800], [180.4, 181.4, 185.3, 210, '800 K is a temperature not valid'], [180.4, 181.4, 185.3, 210, '800 K is a temperature not valid'], [180.4, 181.4, 185.3, 210, '800 K is a temperature not valid'], [180.4, 181.4, 185.3, 210, '800 K is a temperature not valid']]\n",
      "Temperature_invalid = [['210 K is a temperature not valid', '800 K is a temperature not valid'], ['180.4 K is a temperature not valid', '181.4 K is a temperature not valid', '185.3 K is a temperature not valid', '210 K is a temperature not valid'], ['180.4 K is a temperature not valid', '181.4 K is a temperature not valid', '185.3 K is a temperature not valid', '210 K is a temperature not valid'], ['800 K is a temperature not valid'], ['800 K is a temperature not valid'], ['800 K is a temperature not valid'], ['800 K is a temperature not valid']]\n",
      "Temperature_valid = [array([ 180.4,  181.4,  185.3]), array([800]), array([800]), array([ 180.4,  181.4,  185.3,  210. ]), array([ 180.4,  181.4,  185.3,  210. ]), array([ 180.4,  181.4,  185.3,  210. ]), array([ 180.4,  181.4,  185.3,  210. ])]\n",
      "7\n",
      "Vapour Pressure = [array([ 33.32655377,  34.43422601,  39.01608023]) array([ 9.23391967])\n",
      " array([ 7.9130031])\n",
      " array([ 0.80394112,  0.85063572,  1.05335836,  3.33810867])\n",
      " array([ 0.0074373 ,  0.00816353,  0.01160766,  0.07565701])\n",
      " array([ 0.05189654,  0.05605831,  0.07505225,  0.35872729])\n",
      " array([  2.09878094e-07,   2.50494222e-07,   4.89039104e-07,\n",
      "         1.75089920e-05])]\n"
     ]
    }
   ],
   "source": [
    "thermodynamic_correlations = pt.Thermodynamic_correlations()\n",
    "\n",
    "components = [\"METHANE\", \"n-TETRACOSANE\", \"n-PENTACOSANE\", \"ETHANE\", \"ISOBUTANE\", \"PROPANE\", \"3-METHYLHEPTANE\"]\n",
    "property_thermodynamics = \"Vapour_Pressure\"\n",
    "temperature = [180.4, 181.4, 185.3, 210, 800]\n",
    "\n",
    "Vapour_Pressure = thermodynamic_correlations.property_cal(components, property_thermodynamics, temperature)\n",
    "print(\"Vapour Pressure = {0}\". format(Vapour_Pressure))"
   ]
  },
  {
   "cell_type": "markdown",
   "metadata": {
    "slideshow": {
     "slide_type": "subslide"
    }
   },
   "source": [
    "Al incrementar el número de sustancias, de ensayos, de experimentos, etc... Se comienza a complicar el procesamiento de los datos, por tanto, conviene integrar **PyTher** con librerías especializadas para el procesamiento de datos como *Pandas* para obtener resultados más eficientes.\n",
    "\n",
    "### Función = data_temperature(components, temperature, Vapour_Pressure, temp_enter)\n",
    "\n",
    "- Por ejemplo, la función **data_temperature()** organiza los resultados obtenidos (**Vapour_Pressure**), diferenciando las temperaturas fuera del intervalo de aplicación de la correlación termodinámica (*NaN*), de forma estructurada y poder exportarlo en un formato conveniente:\n",
    "\n",
    "(csv, txt, hoja de cálculo, etc)."
   ]
  },
  {
   "cell_type": "code",
   "execution_count": 10,
   "metadata": {
    "slideshow": {
     "slide_type": "subslide"
    }
   },
   "outputs": [
    {
     "data": {
      "text/html": [
       "<div>\n",
       "<table border=\"1\" class=\"dataframe\">\n",
       "  <thead>\n",
       "    <tr style=\"text-align: right;\">\n",
       "      <th></th>\n",
       "      <th>180.4 K</th>\n",
       "      <th>181.4 K</th>\n",
       "      <th>185.3 K</th>\n",
       "      <th>210 K</th>\n",
       "      <th>800 K</th>\n",
       "    </tr>\n",
       "  </thead>\n",
       "  <tbody>\n",
       "    <tr>\n",
       "      <th>METHANE</th>\n",
       "      <td>3.332655e+01</td>\n",
       "      <td>3.443423e+01</td>\n",
       "      <td>3.901608e+01</td>\n",
       "      <td>NaN</td>\n",
       "      <td>NaN</td>\n",
       "    </tr>\n",
       "    <tr>\n",
       "      <th>n-TETRACOSANE</th>\n",
       "      <td>NaN</td>\n",
       "      <td>NaN</td>\n",
       "      <td>NaN</td>\n",
       "      <td>NaN</td>\n",
       "      <td>9.233920</td>\n",
       "    </tr>\n",
       "    <tr>\n",
       "      <th>n-PENTACOSANE</th>\n",
       "      <td>NaN</td>\n",
       "      <td>NaN</td>\n",
       "      <td>NaN</td>\n",
       "      <td>NaN</td>\n",
       "      <td>7.913003</td>\n",
       "    </tr>\n",
       "    <tr>\n",
       "      <th>ETHANE</th>\n",
       "      <td>8.039411e-01</td>\n",
       "      <td>8.506357e-01</td>\n",
       "      <td>1.053358e+00</td>\n",
       "      <td>3.338109</td>\n",
       "      <td>NaN</td>\n",
       "    </tr>\n",
       "    <tr>\n",
       "      <th>ISOBUTANE</th>\n",
       "      <td>7.437302e-03</td>\n",
       "      <td>8.163530e-03</td>\n",
       "      <td>1.160766e-02</td>\n",
       "      <td>0.075657</td>\n",
       "      <td>NaN</td>\n",
       "    </tr>\n",
       "    <tr>\n",
       "      <th>PROPANE</th>\n",
       "      <td>5.189654e-02</td>\n",
       "      <td>5.605831e-02</td>\n",
       "      <td>7.505225e-02</td>\n",
       "      <td>0.358727</td>\n",
       "      <td>NaN</td>\n",
       "    </tr>\n",
       "    <tr>\n",
       "      <th>3-METHYLHEPTANE</th>\n",
       "      <td>2.098781e-07</td>\n",
       "      <td>2.504942e-07</td>\n",
       "      <td>4.890391e-07</td>\n",
       "      <td>0.000018</td>\n",
       "      <td>NaN</td>\n",
       "    </tr>\n",
       "  </tbody>\n",
       "</table>\n",
       "</div>"
      ],
      "text/plain": [
       "                      180.4 K       181.4 K       185.3 K     210 K     800 K\n",
       "METHANE          3.332655e+01  3.443423e+01  3.901608e+01       NaN       NaN\n",
       "n-TETRACOSANE             NaN           NaN           NaN       NaN  9.233920\n",
       "n-PENTACOSANE             NaN           NaN           NaN       NaN  7.913003\n",
       "ETHANE           8.039411e-01  8.506357e-01  1.053358e+00  3.338109       NaN\n",
       "ISOBUTANE        7.437302e-03  8.163530e-03  1.160766e-02  0.075657       NaN\n",
       "PROPANE          5.189654e-02  5.605831e-02  7.505225e-02  0.358727       NaN\n",
       "3-METHYLHEPTANE  2.098781e-07  2.504942e-07  4.890391e-07  0.000018       NaN"
      ]
     },
     "execution_count": 10,
     "metadata": {},
     "output_type": "execute_result"
    }
   ],
   "source": [
    "temp_enter = thermodynamic_correlations.temperature_enter\n",
    "thermodynamic_correlations.data_temperature(components, temperature, Vapour_Pressure, temp_enter)"
   ]
  },
  {
   "cell_type": "markdown",
   "metadata": {
    "slideshow": {
     "slide_type": "subslide"
    }
   },
   "source": [
    "# Documentación \n",
    "\n",
    "### PyTher cuenta con documentación abierta (incluyendo errores cometidos, porque open science también es publicar los muchos desaciertos que allanaron el camino de los pocos aciertos) y disponible en Internet con una revisión y construcción continua...\n",
    "\n",
    "![Pyther_arquitectura](img/notebook_idea.jpg)\n"
   ]
  },
  {
   "cell_type": "code",
   "execution_count": 17,
   "metadata": {
    "slideshow": {
     "slide_type": "subslide"
    }
   },
   "outputs": [
    {
     "data": {
      "text/html": [
       "\n",
       "        <iframe\n",
       "            width=\"950\"\n",
       "            height=\"350\"\n",
       "            src=\"http://pyther.readthedocs.io/es/latest/index.html\"\n",
       "            frameborder=\"0\"\n",
       "            allowfullscreen\n",
       "        ></iframe>\n",
       "        "
      ],
      "text/plain": [
       "<IPython.lib.display.IFrame at 0x7fe33b71bf98>"
      ]
     },
     "execution_count": 17,
     "metadata": {},
     "output_type": "execute_result"
    }
   ],
   "source": [
    "from IPython.display import IFrame\n",
    "documentation_pyther = \"http://pyther.readthedocs.io/es/latest/index.html\"\n",
    "IFrame(documentation_pyther, width=950, height=350)"
   ]
  },
  {
   "cell_type": "markdown",
   "metadata": {
    "slideshow": {
     "slide_type": "subslide"
    }
   },
   "source": [
    "# Finalmente... También utiliza PyTher sin escribir código...\n",
    "\n",
    "![Pyther_arquitectura](img/caiq_17.gif)\n"
   ]
  },
  {
   "cell_type": "markdown",
   "metadata": {
    "collapsed": true,
    "slideshow": {
     "slide_type": "slide"
    }
   },
   "source": [
    "# Muchas Gracias\n",
    "\n",
    "![pyther_isologo](img/pt.png)\n"
   ]
  }
 ],
 "metadata": {
  "anaconda-cloud": {},
  "celltoolbar": "Slideshow",
  "kernelspec": {
   "display_name": "Python [default]",
   "language": "python",
   "name": "python3"
  },
  "language_info": {
   "codemirror_mode": {
    "name": "ipython",
    "version": 3
   },
   "file_extension": ".py",
   "mimetype": "text/x-python",
   "name": "python",
   "nbconvert_exporter": "python",
   "pygments_lexer": "ipython3",
   "version": "3.5.2"
  }
 },
 "nbformat": 4,
 "nbformat_minor": 1
}
